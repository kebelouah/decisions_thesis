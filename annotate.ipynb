{
 "cells": [
  {
   "cell_type": "code",
   "execution_count": 7,
   "metadata": {},
   "outputs": [],
   "source": [
    "import os\n",
    "import pdfplumber\n",
    "from bs4 import BeautifulSoup\n",
    "import pandas as pd\n",
    "import re\n",
    "import unicodedata\n",
    "\n",
    "def extract_text_from_pdf(file_path):\n",
    "    with pdfplumber.open(file_path) as pdf:\n",
    "        text = ''\n",
    "        for page in pdf.pages:\n",
    "            text += page.extract_text()\n",
    "    return text\n",
    "\n",
    "def preprocess_text(text):\n",
    "    # Convert to lowercase\n",
    "    text = text.lower()\n",
    "    # Remove accents\n",
    "    text = ''.join(char for char in unicodedata.normalize('NFKD', text) if not unicodedata.combining(char))\n",
    "    # Remove punctuations\n",
    "    text = re.sub(r'[^\\w\\s]', '', text)\n",
    "    # Remove numbers\n",
    "    text = re.sub(r'\\d+', '', text)\n",
    "    # Remove English characters\n",
    "    text = re.sub(r'[a-zA-Z]', '', text)\n",
    "    # Remove all special chars\n",
    "    text = text.replace('_', '')\n",
    "    return text\n",
    "\n",
    "def find_words_in_text(text, target_words):\n",
    "    for word in target_words:\n",
    "        if word.lower() in text:\n",
    "            return 1  # If any target word is found, label as 1\n",
    "    return 0  # If none of the target words are found, label as 0\n",
    "\n",
    "def label_files_with_specific_words(folder_path, target_words, output_folder):\n",
    "    # Create output folder if it doesn't exist\n",
    "    if not os.path.exists(output_folder):\n",
    "        os.makedirs(output_folder)\n",
    "\n",
    "    labeled_files = {}\n",
    "\n",
    "    for filename in os.listdir(folder_path):\n",
    "        file_path = os.path.join(folder_path, filename)\n",
    "        if filename.endswith('.html'):\n",
    "            with open(file_path, 'r', encoding='utf-8') as file:\n",
    "                html_content = file.read()\n",
    "            text = BeautifulSoup(html_content, 'html.parser').get_text()\n",
    "        elif filename.endswith('.pdf'):\n",
    "            text = extract_text_from_pdf(file_path)\n",
    "        else:\n",
    "            continue  # Skip files that are neither HTML nor PDF\n",
    "        \n",
    "        preprocessed_text = preprocess_text(text)\n",
    "        # Save preprocessed text to a new file in the output folder\n",
    "        output_file_path = os.path.join(output_folder, filename)\n",
    "        with open(output_file_path, 'w', encoding='utf-8') as output_file:\n",
    "            output_file.write(preprocessed_text)\n",
    "        \n",
    "        label = find_words_in_text(preprocessed_text, target_words)\n",
    "        labeled_files[filename] = label\n",
    "\n",
    "    df = pd.DataFrame(labeled_files.items(), columns=['Decision', 'Label'])\n",
    "    \n",
    "    # Save DataFrame to CSV file\n",
    "    csv_file_path = os.path.join(output_folder, 'annotated_dataset.csv')\n",
    "    df.to_csv(csv_file_path, index=False, mode='w')\n",
    "    \n",
    "    return df\n",
    "\n",
    "# My folder of decisions:\n",
    "input_folder = './all_together'\n",
    "output_folder = './preprocessed'\n",
    "target_words = ['απορριπτει', 'επιβαλλει', 'καταδικαζει', 'υποχρεωνει']  # Λέξεις προς επισημείωση\n",
    "labeled_dataset = label_files_with_specific_words(input_folder, target_words, output_folder)"
   ]
  },
  {
   "cell_type": "code",
   "execution_count": 5,
   "metadata": {},
   "outputs": [
    {
     "ename": "NameError",
     "evalue": "name 'df' is not defined",
     "output_type": "error",
     "traceback": [
      "\u001b[0;31m---------------------------------------------------------------------------\u001b[0m",
      "\u001b[0;31mNameError\u001b[0m                                 Traceback (most recent call last)",
      "\u001b[1;32m/Users/thodorismexis/Downloads/CS/Thesis/decisions_thesis/annotate.ipynb Cell 2\u001b[0m line \u001b[0;36m1\n\u001b[0;32m----> <a href='vscode-notebook-cell:/Users/thodorismexis/Downloads/CS/Thesis/decisions_thesis/annotate.ipynb#W1sZmlsZQ%3D%3D?line=0'>1</a>\u001b[0m df\n",
      "\u001b[0;31mNameError\u001b[0m: name 'df' is not defined"
     ]
    }
   ],
   "source": [
    "df"
   ]
  },
  {
   "cell_type": "code",
   "execution_count": null,
   "metadata": {},
   "outputs": [],
   "source": []
  }
 ],
 "metadata": {
  "kernelspec": {
   "display_name": "Python 3 (ipykernel)",
   "language": "python",
   "name": "python3"
  },
  "language_info": {
   "codemirror_mode": {
    "name": "ipython",
    "version": 3
   },
   "file_extension": ".py",
   "mimetype": "text/x-python",
   "name": "python",
   "nbconvert_exporter": "python",
   "pygments_lexer": "ipython3",
   "version": "3.11.7"
  }
 },
 "nbformat": 4,
 "nbformat_minor": 5
}
