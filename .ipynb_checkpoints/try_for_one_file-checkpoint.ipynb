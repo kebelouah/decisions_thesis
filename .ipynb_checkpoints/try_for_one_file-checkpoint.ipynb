{
 "cells": [
  {
   "cell_type": "code",
   "execution_count": 9,
   "id": "882ad14d-3a94-43b1-aab5-b28487017a07",
   "metadata": {},
   "outputs": [
    {
     "name": "stdout",
     "output_type": "stream",
     "text": [
      "Text after the regex pattern has been removed and saved to: gia na doume.html\n"
     ]
    }
   ],
   "source": [
    "import re\n",
    "from bs4 import BeautifulSoup\n",
    "\n",
    "def remove_text_after_regex(input_html_file, output_html_file, regex_pattern):\n",
    "    # Read the content of the input HTML file\n",
    "    with open(input_html_file, 'r', encoding='utf-8') as file:\n",
    "        html_content = file.read()\n",
    "\n",
    "    # Parse the HTML content\n",
    "    soup = BeautifulSoup(html_content, 'html.parser')\n",
    "\n",
    "    # Compile the regex pattern with re.UNICODE flag\n",
    "    pattern = re.compile(regex_pattern, re.UNICODE)\n",
    "\n",
    "    # Find the first occurrence of the regex pattern\n",
    "    match = pattern.search(html_content)\n",
    "    if match:\n",
    "        # Remove everything from the match position to the end of the HTML content\n",
    "        html_content = html_content[:match.start()]\n",
    "\n",
    "    # Write the modified HTML content to the output file\n",
    "    with open(output_html_file, 'w', encoding='utf-8') as file:\n",
    "        file.write(html_content)\n",
    "\n",
    "# Usage example\n",
    "input_html_file = '582 copy.html'\n",
    "output_html_file = 'gia na doume.html'\n",
    "# Example Greek regular expression pattern (sentence)\n",
    "regex_pattern = r'ΓΙΑ ΤΟΥΣ ΛΟΓΟΥΣ ΑΥΤΟΥΣ'  # Replace this with your Greek regex pattern (sentence)\n",
    "remove_text_after_regex(input_html_file, output_html_file, regex_pattern)\n",
    "\n",
    "print(\"Text after the regex pattern has been removed and saved to:\", output_html_file)\n",
    "\n"
   ]
  },
  {
   "cell_type": "code",
   "execution_count": null,
   "id": "c2d00c85-f853-484b-9803-ec9b2b9f85e1",
   "metadata": {},
   "outputs": [],
   "source": []
  }
 ],
 "metadata": {
  "kernelspec": {
   "display_name": "Python 3 (ipykernel)",
   "language": "python",
   "name": "python3"
  },
  "language_info": {
   "codemirror_mode": {
    "name": "ipython",
    "version": 3
   },
   "file_extension": ".py",
   "mimetype": "text/x-python",
   "name": "python",
   "nbconvert_exporter": "python",
   "pygments_lexer": "ipython3",
   "version": "3.11.5"
  }
 },
 "nbformat": 4,
 "nbformat_minor": 5
}
