{
 "cells": [
  {
   "cell_type": "code",
   "execution_count": 18,
   "id": "a2af23fa-8315-4099-8e61-af9c2f57715b",
   "metadata": {},
   "outputs": [],
   "source": [
    "import os\n",
    "from bs4 import BeautifulSoup\n",
    "\n",
    "def extract_content_from_html(html_content, start_sentences):\n",
    "    soup = BeautifulSoup(html_content, 'html.parser')\n",
    "    content = ''\n",
    "    found_start = False\n",
    "    \n",
    "    # Iterate through all text nodes\n",
    "    for element in soup.descendants:\n",
    "        if element.name == 'body':\n",
    "            continue\n",
    "        if element.string:\n",
    "            for start_sentence in start_sentences:\n",
    "                if start_sentence in element.string:\n",
    "                    found_start = True\n",
    "            if found_start:\n",
    "                content += str(element.string) + '\\n'\n",
    "    \n",
    "    return content\n",
    "\n",
    "def process_html_files(folder_path, start_sentences, output_folder):\n",
    "    # Create the output folder if it doesn't exist\n",
    "    if not os.path.exists(output_folder):\n",
    "        os.makedirs(output_folder)\n",
    "\n",
    "    for filename in os.listdir(folder_path):\n",
    "        if filename.endswith('.html'):\n",
    "            file_path = os.path.join(folder_path, filename)\n",
    "            with open(file_path, 'r', encoding='utf-8') as file:\n",
    "                html_content = file.read()\n",
    "                extracted_content = extract_content_from_html(html_content, start_sentences)\n",
    "                new_file_path = os.path.join(output_folder, f'extracted_{filename}')\n",
    "                with open(new_file_path, 'w', encoding='utf-8') as new_file:\n",
    "                    new_file.write(extracted_content)\n",
    "\n",
    "# Change these values to your specific folder path, starting sentences, and output folder name\n",
    "folder_path = 'all_together'\n",
    "start_sentences = ['Δ ι ά τ α ύ τ α', 'ΓΙΑ ΤΟΥΣ ΛΟΓΟΥΣ ΑΥΤΟΥΣ']\n",
    "output_folder = 'final_dataset'  # Name of the output folder you want to create\n",
    "\n",
    "process_html_files(folder_path, start_sentences, output_folder)\n"
   ]
  },
  {
   "cell_type": "code",
   "execution_count": null,
   "id": "6a9a2030-87a3-4cb4-8776-32b2bfb116b1",
   "metadata": {},
   "outputs": [],
   "source": []
  }
 ],
 "metadata": {
  "kernelspec": {
   "display_name": "Python 3 (ipykernel)",
   "language": "python",
   "name": "python3"
  },
  "language_info": {
   "codemirror_mode": {
    "name": "ipython",
    "version": 3
   },
   "file_extension": ".py",
   "mimetype": "text/x-python",
   "name": "python",
   "nbconvert_exporter": "python",
   "pygments_lexer": "ipython3",
   "version": "3.11.5"
  }
 },
 "nbformat": 4,
 "nbformat_minor": 5
}
