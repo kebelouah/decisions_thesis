{
 "cells": [
  {
   "cell_type": "code",
   "execution_count": 1,
   "id": "5895e16d-f1e5-43c9-869d-8955961c57d2",
   "metadata": {},
   "outputs": [
    {
     "name": "stdout",
     "output_type": "stream",
     "text": [
      "Cleaned CSV file saved to: final_with_cut_ap_df.csv\n"
     ]
    }
   ],
   "source": [
    "import pandas as pd\n",
    "import re\n",
    "\n",
    "def remove_text_after_regex_from_column(df, column_name, regex_patterns):\n",
    "    # Iterate over each regex pattern\n",
    "    for pattern in regex_patterns:\n",
    "        # Compile the regex pattern\n",
    "        compiled_pattern = re.compile(pattern, re.UNICODE)\n",
    "\n",
    "        # Apply regex replacement to the specified column\n",
    "        df[column_name] = df[column_name].apply(\n",
    "            lambda x: compiled_pattern.split(x)[0] if pd.notnull(x) else x\n",
    "        )\n",
    "    return df\n",
    "\n",
    "def process_csv_file(input_csv_file, output_csv_file, column_name, regex_patterns):\n",
    "    # Read the CSV file into a DataFrame\n",
    "    df = pd.read_csv(input_csv_file)\n",
    "\n",
    "    # Clean the specified column using the regex patterns\n",
    "    df_cleaned = remove_text_after_regex_from_column(df, column_name, regex_patterns)\n",
    "\n",
    "    # Save the modified DataFrame to a new CSV file\n",
    "    df_cleaned.to_csv(output_csv_file, index=False, encoding='utf-8')\n",
    "\n",
    "# Usage example\n",
    "input_csv_file = 'final_ap_df.csv'\n",
    "output_csv_file = 'final_with_cut_ap_df.csv'\n",
    "column_name = 'processed_text'  # Replace with the actual column name in your CSV\n",
    "\n",
    "# Example Greek regular expression patterns (adjust as needed)\n",
    "regex_patterns = [\n",
    "    r'για τους λογους αυτους',\n",
    "    r'δ ι α τ α υ τ α'\n",
    "]\n",
    "\n",
    "process_csv_file(input_csv_file, output_csv_file, column_name, regex_patterns)\n",
    "\n",
    "print(f\"Cleaned CSV file saved to: {output_csv_file}\")"
   ]
  },
  {
   "cell_type": "code",
   "execution_count": null,
   "metadata": {},
   "outputs": [],
   "source": []
  }
 ],
 "metadata": {
  "kernelspec": {
   "display_name": "Python 3 (ipykernel)",
   "language": "python",
   "name": "python3"
  },
  "language_info": {
   "codemirror_mode": {
    "name": "ipython",
    "version": 3
   },
   "file_extension": ".py",
   "mimetype": "text/x-python",
   "name": "python",
   "nbconvert_exporter": "python",
   "pygments_lexer": "ipython3",
   "version": "3.11.7"
  }
 },
 "nbformat": 4,
 "nbformat_minor": 5
}
