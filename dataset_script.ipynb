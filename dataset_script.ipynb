{
 "cells": [
  {
   "cell_type": "code",
   "execution_count": 2,
   "id": "89fbf29d-b5a8-44b9-b3ab-2a5b951661c1",
   "metadata": {},
   "outputs": [
    {
     "name": "stdout",
     "output_type": "stream",
     "text": [
      "Text after the regex patterns have been removed from HTML files in the input folder and saved to new files in the output folder: final_dataset\n"
     ]
    }
   ],
   "source": [
    "import os\n",
    "import re\n",
    "from bs4 import BeautifulSoup\n",
    "import shutil\n",
    "\n",
    "def remove_text_after_regex(input_html_file, output_html_file, regex_patterns):\n",
    "    # Read the content of the input HTML file\n",
    "    with open(input_html_file, 'r', encoding='utf-8') as file:\n",
    "        html_content = file.read()\n",
    "\n",
    "    # Parse the HTML content\n",
    "    soup = BeautifulSoup(html_content, 'html.parser')\n",
    "\n",
    "    # Iterate over each regex pattern\n",
    "    for pattern in regex_patterns:\n",
    "        # Compile the regex pattern with re.UNICODE flag\n",
    "        compiled_pattern = re.compile(pattern, re.UNICODE)\n",
    "\n",
    "        # Find the first occurrence of the regex pattern\n",
    "        match = compiled_pattern.search(html_content)\n",
    "        if match:\n",
    "            # Remove everything from the match position to the end of the HTML content\n",
    "            html_content = html_content[:match.start()]\n",
    "            break  # Break the loop after the first match\n",
    "\n",
    "    # Write the modified HTML content to the output file\n",
    "    with open(output_html_file, 'w', encoding='utf-8') as file:\n",
    "        file.write(html_content)\n",
    "\n",
    "def process_html_files(input_folder, output_folder, regex_patterns):\n",
    "    # Create the output folder if it doesn't exist\n",
    "    if not os.path.exists(output_folder):\n",
    "        os.makedirs(output_folder)\n",
    "\n",
    "    # Process each HTML file in the input folder\n",
    "    for file_name in os.listdir(input_folder):\n",
    "        if file_name.endswith('.html'):\n",
    "            input_file_path = os.path.join(input_folder, file_name)\n",
    "            output_file_path = os.path.join(output_folder, file_name)\n",
    "            temp_output_file_path = os.path.join(output_folder, 'temp_' + file_name)\n",
    "            remove_text_after_regex(input_file_path, temp_output_file_path, regex_patterns)\n",
    "            # Move the modified file from the temporary location to the output folder\n",
    "            shutil.move(temp_output_file_path, output_file_path)\n",
    "\n",
    "# Usage example\n",
    "input_folder = 'preprocessed'\n",
    "output_folder = 'final_dataset'\n",
    "# Example Greek regular expression patterns (sentences)\n",
    "regex_patterns = [\n",
    "    r'για τους λογους αυτους',\n",
    "    r'δ ι α τ α υ τ α'\n",
    "]  # Replace these with your Greek regex patterns (sentences)\n",
    "process_html_files(input_folder, output_folder, regex_patterns)\n",
    "\n",
    "print(\"Text after the regex patterns have been removed from HTML files in the input folder and saved to new files in the output folder:\", output_folder)\n"
   ]
  },
  {
   "cell_type": "code",
   "execution_count": null,
   "id": "1234f89c-9af9-46db-a973-a416ff451b8d",
   "metadata": {},
   "outputs": [],
   "source": []
  }
 ],
 "metadata": {
  "kernelspec": {
   "display_name": "Python 3 (ipykernel)",
   "language": "python",
   "name": "python3"
  },
  "language_info": {
   "codemirror_mode": {
    "name": "ipython",
    "version": 3
   },
   "file_extension": ".py",
   "mimetype": "text/x-python",
   "name": "python",
   "nbconvert_exporter": "python",
   "pygments_lexer": "ipython3",
   "version": "3.11.7"
  }
 },
 "nbformat": 4,
 "nbformat_minor": 5
}
